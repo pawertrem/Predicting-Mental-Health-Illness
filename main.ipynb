{
  "nbformat": 4,
  "nbformat_minor": 0,
  "metadata": {
    "colab": {
      "provenance": [],
      "gpuType": "T4"
    },
    "kernelspec": {
      "name": "python3",
      "display_name": "Python 3"
    },
    "language_info": {
      "name": "python"
    },
    "accelerator": "GPU"
  },
  "cells": [
    {
      "cell_type": "code",
      "execution_count": null,
      "metadata": {
        "id": "kfEVV-JxOdA6"
      },
      "outputs": [],
      "source": [
        "import pandas as pd\n",
        "import numpy as np\n",
        "import matplotlib.pyplot as plt"
      ]
    },
    {
      "cell_type": "markdown",
      "source": [
        "# Data import"
      ],
      "metadata": {
        "id": "IDfxyRN_QyN-"
      }
    },
    {
      "cell_type": "code",
      "source": [
        "df = pd.read_csv('Data_Sources_csv.csv', sep = ';')\n",
        "\n",
        "print('Dataset size', df.shape)\n",
        "\n",
        "num_rows, num_feature = df.shape\n",
        "\n",
        "print('row number: ', num_rows)\n",
        "print('feature number: ', num_feature)\n",
        "print()\n",
        "print('names of features: ', list(df))"
      ],
      "metadata": {
        "colab": {
          "base_uri": "https://localhost:8080/"
        },
        "id": "4t_5d4jJPHWG",
        "outputId": "09e0155d-72c8-409f-8316-935aa8ee0f65"
      },
      "execution_count": null,
      "outputs": [
        {
          "output_type": "stream",
          "name": "stdout",
          "text": [
            "Dataset size (66460, 5)\n",
            "row number:  66460\n",
            "feature number:  5\n",
            "\n",
            "names of features:  ['url', 'date', 'text', 'tag', 'source']\n"
          ]
        }
      ]
    },
    {
      "cell_type": "code",
      "source": [
        "df.head(5)"
      ],
      "metadata": {
        "colab": {
          "base_uri": "https://localhost:8080/",
          "height": 289
        },
        "id": "hKZy6hzwQM_K",
        "outputId": "9982bb9f-e330-4aa2-c756-82b884aaf83f"
      },
      "execution_count": null,
      "outputs": [
        {
          "output_type": "execute_result",
          "data": {
            "text/plain": [
              "                                                 url              date  \\\n",
              "0  https://vk.com/club3291025?w=wall-3291025_1020782  2023-04-15 19:39   \n",
              "1                          https://vk.com/id32362343  2023-04-15 19:46   \n",
              "2                         https://vk.com/id415411329  2023-04-15 19:44   \n",
              "3                         https://vk.com/id777797099  2023-04-15 19:44   \n",
              "4                         https://vk.com/id739587393  2023-04-15 19:47   \n",
              "\n",
              "                                                text  tag source  \n",
              "0  Всем добрый день!  У меня БАР 2 типа. Начала ч...  БАР     ВК  \n",
              "1                              это на всякий случай?  БАР     ВК  \n",
              "2  Попробуйте успокоиться. Сделайте выводы. Приго...  БАР     ВК  \n",
              "3                   На все вопросы вы ответили сами.  БАР     ВК  \n",
              "4  Всё к лучшему. Если вы так сделали, значит так...  БАР     ВК  "
            ],
            "text/html": [
              "\n",
              "  <div id=\"df-285aaea6-6b3c-4f8d-9d7d-ad5966ecfbcc\" class=\"colab-df-container\">\n",
              "    <div>\n",
              "<style scoped>\n",
              "    .dataframe tbody tr th:only-of-type {\n",
              "        vertical-align: middle;\n",
              "    }\n",
              "\n",
              "    .dataframe tbody tr th {\n",
              "        vertical-align: top;\n",
              "    }\n",
              "\n",
              "    .dataframe thead th {\n",
              "        text-align: right;\n",
              "    }\n",
              "</style>\n",
              "<table border=\"1\" class=\"dataframe\">\n",
              "  <thead>\n",
              "    <tr style=\"text-align: right;\">\n",
              "      <th></th>\n",
              "      <th>url</th>\n",
              "      <th>date</th>\n",
              "      <th>text</th>\n",
              "      <th>tag</th>\n",
              "      <th>source</th>\n",
              "    </tr>\n",
              "  </thead>\n",
              "  <tbody>\n",
              "    <tr>\n",
              "      <th>0</th>\n",
              "      <td>https://vk.com/club3291025?w=wall-3291025_1020782</td>\n",
              "      <td>2023-04-15 19:39</td>\n",
              "      <td>Всем добрый день!  У меня БАР 2 типа. Начала ч...</td>\n",
              "      <td>БАР</td>\n",
              "      <td>ВК</td>\n",
              "    </tr>\n",
              "    <tr>\n",
              "      <th>1</th>\n",
              "      <td>https://vk.com/id32362343</td>\n",
              "      <td>2023-04-15 19:46</td>\n",
              "      <td>это на всякий случай?</td>\n",
              "      <td>БАР</td>\n",
              "      <td>ВК</td>\n",
              "    </tr>\n",
              "    <tr>\n",
              "      <th>2</th>\n",
              "      <td>https://vk.com/id415411329</td>\n",
              "      <td>2023-04-15 19:44</td>\n",
              "      <td>Попробуйте успокоиться. Сделайте выводы. Приго...</td>\n",
              "      <td>БАР</td>\n",
              "      <td>ВК</td>\n",
              "    </tr>\n",
              "    <tr>\n",
              "      <th>3</th>\n",
              "      <td>https://vk.com/id777797099</td>\n",
              "      <td>2023-04-15 19:44</td>\n",
              "      <td>На все вопросы вы ответили сами.</td>\n",
              "      <td>БАР</td>\n",
              "      <td>ВК</td>\n",
              "    </tr>\n",
              "    <tr>\n",
              "      <th>4</th>\n",
              "      <td>https://vk.com/id739587393</td>\n",
              "      <td>2023-04-15 19:47</td>\n",
              "      <td>Всё к лучшему. Если вы так сделали, значит так...</td>\n",
              "      <td>БАР</td>\n",
              "      <td>ВК</td>\n",
              "    </tr>\n",
              "  </tbody>\n",
              "</table>\n",
              "</div>\n",
              "    <div class=\"colab-df-buttons\">\n",
              "\n",
              "  <div class=\"colab-df-container\">\n",
              "    <button class=\"colab-df-convert\" onclick=\"convertToInteractive('df-285aaea6-6b3c-4f8d-9d7d-ad5966ecfbcc')\"\n",
              "            title=\"Convert this dataframe to an interactive table.\"\n",
              "            style=\"display:none;\">\n",
              "\n",
              "  <svg xmlns=\"http://www.w3.org/2000/svg\" height=\"24px\" viewBox=\"0 -960 960 960\">\n",
              "    <path d=\"M120-120v-720h720v720H120Zm60-500h600v-160H180v160Zm220 220h160v-160H400v160Zm0 220h160v-160H400v160ZM180-400h160v-160H180v160Zm440 0h160v-160H620v160ZM180-180h160v-160H180v160Zm440 0h160v-160H620v160Z\"/>\n",
              "  </svg>\n",
              "    </button>\n",
              "\n",
              "  <style>\n",
              "    .colab-df-container {\n",
              "      display:flex;\n",
              "      gap: 12px;\n",
              "    }\n",
              "\n",
              "    .colab-df-convert {\n",
              "      background-color: #E8F0FE;\n",
              "      border: none;\n",
              "      border-radius: 50%;\n",
              "      cursor: pointer;\n",
              "      display: none;\n",
              "      fill: #1967D2;\n",
              "      height: 32px;\n",
              "      padding: 0 0 0 0;\n",
              "      width: 32px;\n",
              "    }\n",
              "\n",
              "    .colab-df-convert:hover {\n",
              "      background-color: #E2EBFA;\n",
              "      box-shadow: 0px 1px 2px rgba(60, 64, 67, 0.3), 0px 1px 3px 1px rgba(60, 64, 67, 0.15);\n",
              "      fill: #174EA6;\n",
              "    }\n",
              "\n",
              "    .colab-df-buttons div {\n",
              "      margin-bottom: 4px;\n",
              "    }\n",
              "\n",
              "    [theme=dark] .colab-df-convert {\n",
              "      background-color: #3B4455;\n",
              "      fill: #D2E3FC;\n",
              "    }\n",
              "\n",
              "    [theme=dark] .colab-df-convert:hover {\n",
              "      background-color: #434B5C;\n",
              "      box-shadow: 0px 1px 3px 1px rgba(0, 0, 0, 0.15);\n",
              "      filter: drop-shadow(0px 1px 2px rgba(0, 0, 0, 0.3));\n",
              "      fill: #FFFFFF;\n",
              "    }\n",
              "  </style>\n",
              "\n",
              "    <script>\n",
              "      const buttonEl =\n",
              "        document.querySelector('#df-285aaea6-6b3c-4f8d-9d7d-ad5966ecfbcc button.colab-df-convert');\n",
              "      buttonEl.style.display =\n",
              "        google.colab.kernel.accessAllowed ? 'block' : 'none';\n",
              "\n",
              "      async function convertToInteractive(key) {\n",
              "        const element = document.querySelector('#df-285aaea6-6b3c-4f8d-9d7d-ad5966ecfbcc');\n",
              "        const dataTable =\n",
              "          await google.colab.kernel.invokeFunction('convertToInteractive',\n",
              "                                                    [key], {});\n",
              "        if (!dataTable) return;\n",
              "\n",
              "        const docLinkHtml = 'Like what you see? Visit the ' +\n",
              "          '<a target=\"_blank\" href=https://colab.research.google.com/notebooks/data_table.ipynb>data table notebook</a>'\n",
              "          + ' to learn more about interactive tables.';\n",
              "        element.innerHTML = '';\n",
              "        dataTable['output_type'] = 'display_data';\n",
              "        await google.colab.output.renderOutput(dataTable, element);\n",
              "        const docLink = document.createElement('div');\n",
              "        docLink.innerHTML = docLinkHtml;\n",
              "        element.appendChild(docLink);\n",
              "      }\n",
              "    </script>\n",
              "  </div>\n",
              "\n",
              "\n",
              "<div id=\"df-ac312c84-22b0-4120-a0c1-fc0fbddaec45\">\n",
              "  <button class=\"colab-df-quickchart\" onclick=\"quickchart('df-ac312c84-22b0-4120-a0c1-fc0fbddaec45')\"\n",
              "            title=\"Suggest charts\"\n",
              "            style=\"display:none;\">\n",
              "\n",
              "<svg xmlns=\"http://www.w3.org/2000/svg\" height=\"24px\"viewBox=\"0 0 24 24\"\n",
              "     width=\"24px\">\n",
              "    <g>\n",
              "        <path d=\"M19 3H5c-1.1 0-2 .9-2 2v14c0 1.1.9 2 2 2h14c1.1 0 2-.9 2-2V5c0-1.1-.9-2-2-2zM9 17H7v-7h2v7zm4 0h-2V7h2v10zm4 0h-2v-4h2v4z\"/>\n",
              "    </g>\n",
              "</svg>\n",
              "  </button>\n",
              "\n",
              "<style>\n",
              "  .colab-df-quickchart {\n",
              "      --bg-color: #E8F0FE;\n",
              "      --fill-color: #1967D2;\n",
              "      --hover-bg-color: #E2EBFA;\n",
              "      --hover-fill-color: #174EA6;\n",
              "      --disabled-fill-color: #AAA;\n",
              "      --disabled-bg-color: #DDD;\n",
              "  }\n",
              "\n",
              "  [theme=dark] .colab-df-quickchart {\n",
              "      --bg-color: #3B4455;\n",
              "      --fill-color: #D2E3FC;\n",
              "      --hover-bg-color: #434B5C;\n",
              "      --hover-fill-color: #FFFFFF;\n",
              "      --disabled-bg-color: #3B4455;\n",
              "      --disabled-fill-color: #666;\n",
              "  }\n",
              "\n",
              "  .colab-df-quickchart {\n",
              "    background-color: var(--bg-color);\n",
              "    border: none;\n",
              "    border-radius: 50%;\n",
              "    cursor: pointer;\n",
              "    display: none;\n",
              "    fill: var(--fill-color);\n",
              "    height: 32px;\n",
              "    padding: 0;\n",
              "    width: 32px;\n",
              "  }\n",
              "\n",
              "  .colab-df-quickchart:hover {\n",
              "    background-color: var(--hover-bg-color);\n",
              "    box-shadow: 0 1px 2px rgba(60, 64, 67, 0.3), 0 1px 3px 1px rgba(60, 64, 67, 0.15);\n",
              "    fill: var(--button-hover-fill-color);\n",
              "  }\n",
              "\n",
              "  .colab-df-quickchart-complete:disabled,\n",
              "  .colab-df-quickchart-complete:disabled:hover {\n",
              "    background-color: var(--disabled-bg-color);\n",
              "    fill: var(--disabled-fill-color);\n",
              "    box-shadow: none;\n",
              "  }\n",
              "\n",
              "  .colab-df-spinner {\n",
              "    border: 2px solid var(--fill-color);\n",
              "    border-color: transparent;\n",
              "    border-bottom-color: var(--fill-color);\n",
              "    animation:\n",
              "      spin 1s steps(1) infinite;\n",
              "  }\n",
              "\n",
              "  @keyframes spin {\n",
              "    0% {\n",
              "      border-color: transparent;\n",
              "      border-bottom-color: var(--fill-color);\n",
              "      border-left-color: var(--fill-color);\n",
              "    }\n",
              "    20% {\n",
              "      border-color: transparent;\n",
              "      border-left-color: var(--fill-color);\n",
              "      border-top-color: var(--fill-color);\n",
              "    }\n",
              "    30% {\n",
              "      border-color: transparent;\n",
              "      border-left-color: var(--fill-color);\n",
              "      border-top-color: var(--fill-color);\n",
              "      border-right-color: var(--fill-color);\n",
              "    }\n",
              "    40% {\n",
              "      border-color: transparent;\n",
              "      border-right-color: var(--fill-color);\n",
              "      border-top-color: var(--fill-color);\n",
              "    }\n",
              "    60% {\n",
              "      border-color: transparent;\n",
              "      border-right-color: var(--fill-color);\n",
              "    }\n",
              "    80% {\n",
              "      border-color: transparent;\n",
              "      border-right-color: var(--fill-color);\n",
              "      border-bottom-color: var(--fill-color);\n",
              "    }\n",
              "    90% {\n",
              "      border-color: transparent;\n",
              "      border-bottom-color: var(--fill-color);\n",
              "    }\n",
              "  }\n",
              "</style>\n",
              "\n",
              "  <script>\n",
              "    async function quickchart(key) {\n",
              "      const quickchartButtonEl =\n",
              "        document.querySelector('#' + key + ' button');\n",
              "      quickchartButtonEl.disabled = true;  // To prevent multiple clicks.\n",
              "      quickchartButtonEl.classList.add('colab-df-spinner');\n",
              "      try {\n",
              "        const charts = await google.colab.kernel.invokeFunction(\n",
              "            'suggestCharts', [key], {});\n",
              "      } catch (error) {\n",
              "        console.error('Error during call to suggestCharts:', error);\n",
              "      }\n",
              "      quickchartButtonEl.classList.remove('colab-df-spinner');\n",
              "      quickchartButtonEl.classList.add('colab-df-quickchart-complete');\n",
              "    }\n",
              "    (() => {\n",
              "      let quickchartButtonEl =\n",
              "        document.querySelector('#df-ac312c84-22b0-4120-a0c1-fc0fbddaec45 button');\n",
              "      quickchartButtonEl.style.display =\n",
              "        google.colab.kernel.accessAllowed ? 'block' : 'none';\n",
              "    })();\n",
              "  </script>\n",
              "</div>\n",
              "    </div>\n",
              "  </div>\n"
            ],
            "application/vnd.google.colaboratory.intrinsic+json": {
              "type": "dataframe",
              "variable_name": "df",
              "summary": "{\n  \"name\": \"df\",\n  \"rows\": 66460,\n  \"fields\": [\n    {\n      \"column\": \"url\",\n      \"properties\": {\n        \"dtype\": \"category\",\n        \"num_unique_values\": 5395,\n        \"samples\": [\n          \"https://vk.com/club3291025?w=wall-3291025_744022\",\n          \"https://vk.com/id47490087\",\n          \"https://vk.com/id256696973\"\n        ],\n        \"semantic_type\": \"\",\n        \"description\": \"\"\n      }\n    },\n    {\n      \"column\": \"date\",\n      \"properties\": {\n        \"dtype\": \"string\",\n        \"num_unique_values\": 57093,\n        \"samples\": [\n          \"2022-12-15 15:54\",\n          \" 13.09.2022-14:33\",\n          \" 5.04.2022-14:05\"\n        ],\n        \"semantic_type\": \"\",\n        \"description\": \"\"\n      }\n    },\n    {\n      \"column\": \"text\",\n      \"properties\": {\n        \"dtype\": \"string\",\n        \"num_unique_values\": 65244,\n        \"samples\": [\n          \"\\\"\\u0412\\u0441\\u0435 \\u0434\\u043e\\u043b\\u0436\\u043d\\u043e \\u0431\\u044b\\u0442\\u044c \\u043f\\u0438\\u0437\\u0434\\u0430\\u0442\\u043e, \\u0430 \\u0435\\u0441\\u043b\\u0438 \\u043d\\u0435\\u0442, \\u0442\\u043e \\u043f\\u043e\\u0445\\u0443\\u0439\\\".\",\n          \"\\u043d\\u0435, \\u043c\\u043d\\u0435 \\u043f\\u043e\\u0444\\u0438\\u0433 \\u043d\\u0430 \\u0447\\u0443\\u0436\\u0438\\u0445 \\u043c\\u0430\\u043c. \\u041d\\u043e \\u043d\\u0435 \\u043f\\u043e\\u0444\\u0438\\u0433 \\u043d\\u0430 \\u0447\\u0443\\u0436\\u0438\\u0445 \\u0434\\u0435\\u0442\\u0435\\u0439)  \\u0412\\u044b \\u0441\\u0430\\u043c\\u0438 \\u0441\\u0435\\u0431\\u044f \\u0447\\u0438\\u0442\\u0430\\u043b\\u0438? \\u0422\\u0440\\u0430\\u0445\\u0430\\u043b\\u0438\\u0441\\u044c, \\u0432\\u043e\\u0442 \\u0438 \\u0440\\u043e\\u0434\\u0438\\u043b\\u0438.. \\u041d\\u0443 \\u0438 \\u0432\\u0430\\u0448\\u0430 \\u043c\\u0430\\u0442\\u044c \\u0442\\u0430\\u043a \\u0436\\u0435.. \\u0422\\u043e\\u043b\\u044c\\u043a\\u043e \\u0443  \\u0432\\u0430\\u0441 \\u0441\\u044b\\u043d, \\u0430 \\u0443 \\u043d\\u0435\\u0451 \\u0432\\u044b \\u0438 \\u0432\\u0430\\u0448\\u0430 \\u0441\\u0435\\u0441\\u0442\\u0440\\u0430..\",\n          \"\\u0430\\u0432\\u0442\\u043e\\u0440 \\u043f\\u043e\\u0441\\u0442\\u0430 \\u0445\\u043e\\u0447\\u0435\\u0442 \\u0443\\u0439\\u0442\\u0438 \\u0438\\u0437 \\u0441\\u0438\\u0442\\u0443\\u0430\\u0446\\u0438\\u0438 \\u0438 \\u043d\\u0435 \\u0432\\u043e\\u0437\\u0438\\u0442\\u044c\\u0441\\u044f \\u0441 \\u044d\\u0442\\u0438\\u043c.\"\n        ],\n        \"semantic_type\": \"\",\n        \"description\": \"\"\n      }\n    },\n    {\n      \"column\": \"tag\",\n      \"properties\": {\n        \"dtype\": \"category\",\n        \"num_unique_values\": 9,\n        \"samples\": [\n          \"\\u0442\\u0440\\u0435\\u0432\\u043e\\u0436\\u043d\\u043e\\u0435 \\u0440-\\u0432\\u043e/\\u043d\\u0435\\u0432\\u0440\\u043e\\u0437\",\n          \"\\u0434\\u0435\\u043f\\u0440\\u0435\\u0441\\u0441\\u0438\\u044f\",\n          \"\\u0442\\u0440\\u0435\\u0432\\u043e\\u0436\\u043d\\u043e\\u0435 \\u0440-\\u0432\\u043e\"\n        ],\n        \"semantic_type\": \"\",\n        \"description\": \"\"\n      }\n    },\n    {\n      \"column\": \"source\",\n      \"properties\": {\n        \"dtype\": \"category\",\n        \"num_unique_values\": 3,\n        \"samples\": [\n          \"\\u0412\\u041a\",\n          \"forum b17\",\n          \"reddit\"\n        ],\n        \"semantic_type\": \"\",\n        \"description\": \"\"\n      }\n    }\n  ]\n}"
            }
          },
          "metadata": {},
          "execution_count": 12
        }
      ]
    },
    {
      "cell_type": "markdown",
      "source": [
        "# Lemmatization"
      ],
      "metadata": {
        "id": "1rHvM5CXQ55i"
      }
    },
    {
      "cell_type": "code",
      "source": [
        "import io\n",
        "f = io.open('stopwords-ru.txt','r',encoding='utf8')\n",
        "\n",
        "sw = f.read()\n",
        "sw = sw.split('\\n')"
      ],
      "metadata": {
        "id": "YzweoOf_vf6L"
      },
      "execution_count": null,
      "outputs": []
    },
    {
      "cell_type": "code",
      "source": [
        "import string\n",
        "\n",
        "def clean_tweet(tweet):\n",
        "    temp = str(tweet)\n",
        "    temp = temp.lower()\n",
        "    temp = re.sub(\"#[A-Za-zА-Яа-я0-9_]+\",\"\", temp)\n",
        "    temp = re.sub(\"@[A-Za-zА-Яа-я0-9_]+\",\"\", temp)\n",
        "    temp = re.sub(\"\\n\",\" \", temp)\n",
        "    temp = re.sub(r'http\\S+', '', temp)\n",
        "    temp =  re.sub('[^а-яё ]', '', temp, flags=re.IGNORECASE)\n",
        "    temp = temp.split()\n",
        "    temp = [w for w in temp if not w in sw]\n",
        "    temp = \" \".join(word for word in temp if len(word)>1)\n",
        "    return temp"
      ],
      "metadata": {
        "id": "7YvyEVSTviSQ"
      },
      "execution_count": null,
      "outputs": []
    },
    {
      "cell_type": "code",
      "source": [
        "pip install pymorphy2"
      ],
      "metadata": {
        "colab": {
          "base_uri": "https://localhost:8080/"
        },
        "id": "jDkWvJlnQ_Ar",
        "outputId": "24ca06d7-d4b4-49ff-b565-ec79eab4c517",
        "collapsed": true
      },
      "execution_count": null,
      "outputs": [
        {
          "output_type": "stream",
          "name": "stdout",
          "text": [
            "Collecting pymorphy2\n",
            "  Downloading pymorphy2-0.9.1-py3-none-any.whl (55 kB)\n",
            "\u001b[?25l     \u001b[90m━━━━━━━━━━━━━━━━━━━━━━━━━━━━━━━━━━━━━━━━\u001b[0m \u001b[32m0.0/55.5 kB\u001b[0m \u001b[31m?\u001b[0m eta \u001b[36m-:--:--\u001b[0m\r\u001b[2K     \u001b[90m━━━━━━━━━━━━━━━━━━━━━━━━━━━━━━━━━━━━━━━━\u001b[0m \u001b[32m55.5/55.5 kB\u001b[0m \u001b[31m2.5 MB/s\u001b[0m eta \u001b[36m0:00:00\u001b[0m\n",
            "\u001b[?25hCollecting dawg-python>=0.7.1 (from pymorphy2)\n",
            "  Downloading DAWG_Python-0.7.2-py2.py3-none-any.whl (11 kB)\n",
            "Collecting pymorphy2-dicts-ru<3.0,>=2.4 (from pymorphy2)\n",
            "  Downloading pymorphy2_dicts_ru-2.4.417127.4579844-py2.py3-none-any.whl (8.2 MB)\n",
            "\u001b[2K     \u001b[90m━━━━━━━━━━━━━━━━━━━━━━━━━━━━━━━━━━━━━━━━\u001b[0m \u001b[32m8.2/8.2 MB\u001b[0m \u001b[31m75.9 MB/s\u001b[0m eta \u001b[36m0:00:00\u001b[0m\n",
            "\u001b[?25hCollecting docopt>=0.6 (from pymorphy2)\n",
            "  Downloading docopt-0.6.2.tar.gz (25 kB)\n",
            "  Preparing metadata (setup.py) ... \u001b[?25l\u001b[?25hdone\n",
            "Building wheels for collected packages: docopt\n",
            "  Building wheel for docopt (setup.py) ... \u001b[?25l\u001b[?25hdone\n",
            "  Created wheel for docopt: filename=docopt-0.6.2-py2.py3-none-any.whl size=13706 sha256=74fa13a49ebbbf03af6d361ea8840a51343bf0fd95b420182361989a33b98b3b\n",
            "  Stored in directory: /root/.cache/pip/wheels/fc/ab/d4/5da2067ac95b36618c629a5f93f809425700506f72c9732fac\n",
            "Successfully built docopt\n",
            "Installing collected packages: pymorphy2-dicts-ru, docopt, dawg-python, pymorphy2\n",
            "Successfully installed dawg-python-0.7.2 docopt-0.6.2 pymorphy2-0.9.1 pymorphy2-dicts-ru-2.4.417127.4579844\n"
          ]
        }
      ]
    },
    {
      "cell_type": "code",
      "source": [
        "from pymorphy2 import MorphAnalyzer\n",
        "\n",
        "morph = MorphAnalyzer()\n",
        "\n",
        "def lemmatize(doc):\n",
        "    tokens = []\n",
        "    for token in doc.split():\n",
        "            token = token.strip()\n",
        "            token = morph.normal_forms(token)[0]\n",
        "            tokens.append(token)\n",
        "    tokens = \" \".join(word for word in tokens if word not in sw)\n",
        "    return tokens"
      ],
      "metadata": {
        "id": "LtBrepX3vk8W"
      },
      "execution_count": null,
      "outputs": []
    },
    {
      "cell_type": "code",
      "source": [
        "df['text'] = df['text'].apply(clean_tweet)\n",
        "df['text'] = df['text'].apply(lemmatize)"
      ],
      "metadata": {
        "id": "r1xyq2BWQ-ab"
      },
      "execution_count": null,
      "outputs": []
    },
    {
      "cell_type": "code",
      "source": [
        "df.to_csv('df_lemma_2.csv', index = False)"
      ],
      "metadata": {
        "id": "aSQgUCtpTeSy"
      },
      "execution_count": null,
      "outputs": []
    },
    {
      "cell_type": "markdown",
      "source": [
        "# Balancing data"
      ],
      "metadata": {
        "id": "6xsV21lrm4tR"
      }
    },
    {
      "cell_type": "code",
      "source": [
        "import pandas as pd\n",
        "import numpy as np\n",
        "import random"
      ],
      "metadata": {
        "id": "in57etPEyAYm"
      },
      "execution_count": null,
      "outputs": []
    },
    {
      "cell_type": "code",
      "source": [
        "pip install ruwordnet"
      ],
      "metadata": {
        "colab": {
          "base_uri": "https://localhost:8080/"
        },
        "collapsed": true,
        "id": "xvPWz9cTtv3b",
        "outputId": "3a91416c-1c72-4314-952d-0c506fcfa299"
      },
      "execution_count": null,
      "outputs": [
        {
          "output_type": "stream",
          "name": "stdout",
          "text": [
            "Collecting ruwordnet\n",
            "  Downloading ruwordnet-0.0.6.tar.gz (16 kB)\n",
            "  Preparing metadata (setup.py) ... \u001b[?25l\u001b[?25hdone\n",
            "Collecting sqlalchemy<2.0 (from ruwordnet)\n",
            "  Downloading SQLAlchemy-1.4.52-cp310-cp310-manylinux_2_5_x86_64.manylinux1_x86_64.manylinux_2_17_x86_64.manylinux2014_x86_64.whl (1.6 MB)\n",
            "\u001b[2K     \u001b[90m━━━━━━━━━━━━━━━━━━━━━━━━━━━━━━━━━━━━━━━━\u001b[0m \u001b[32m1.6/1.6 MB\u001b[0m \u001b[31m31.1 MB/s\u001b[0m eta \u001b[36m0:00:00\u001b[0m\n",
            "\u001b[?25hRequirement already satisfied: greenlet!=0.4.17 in /usr/local/lib/python3.10/dist-packages (from sqlalchemy<2.0->ruwordnet) (3.0.3)\n",
            "Building wheels for collected packages: ruwordnet\n",
            "  Building wheel for ruwordnet (setup.py) ... \u001b[?25l\u001b[?25hdone\n",
            "  Created wheel for ruwordnet: filename=ruwordnet-0.0.6-py3-none-any.whl size=13169 sha256=b9bd13d746b2ccdf680183822addc788d2d0eab5ee23b467079e6ff08cb42d68\n",
            "  Stored in directory: /root/.cache/pip/wheels/6f/75/be/a338d987d811bbfe38a40a76166cc84dfdc88e02eadc3ff9c0\n",
            "Successfully built ruwordnet\n",
            "Installing collected packages: sqlalchemy, ruwordnet\n",
            "  Attempting uninstall: sqlalchemy\n",
            "    Found existing installation: SQLAlchemy 2.0.31\n",
            "    Uninstalling SQLAlchemy-2.0.31:\n",
            "      Successfully uninstalled SQLAlchemy-2.0.31\n",
            "\u001b[31mERROR: pip's dependency resolver does not currently take into account all the packages that are installed. This behaviour is the source of the following dependency conflicts.\n",
            "ipython-sql 0.5.0 requires sqlalchemy>=2.0, but you have sqlalchemy 1.4.52 which is incompatible.\u001b[0m\u001b[31m\n",
            "\u001b[0mSuccessfully installed ruwordnet-0.0.6 sqlalchemy-1.4.52\n"
          ]
        }
      ]
    },
    {
      "cell_type": "code",
      "source": [
        "df = pd.read_csv('df_lemma_2.csv')\n",
        "df = df.iloc[:,1:]\n",
        "\n",
        "#get rid of observations with NaN values and too short texts (1 word after removing stop words)\n",
        "def word_count(text):\n",
        "    return len(text.split())\n",
        "\n",
        "df = df[df['text'].isna()==False]\n",
        "df = df[df['text'].apply(word_count)>1]"
      ],
      "metadata": {
        "id": "9pBBJaixuFds"
      },
      "execution_count": null,
      "outputs": []
    },
    {
      "cell_type": "markdown",
      "source": [
        "### Function for augmentation through RuWordNet\n"
      ],
      "metadata": {
        "id": "07ULWEAwtdEH"
      }
    },
    {
      "cell_type": "code",
      "source": [
        "from ruwordnet import RuWordNet\n",
        "wn = RuWordNet(filename_or_session='ruwordnet-2021.db')"
      ],
      "metadata": {
        "id": "VXCHamFRt_Gv"
      },
      "execution_count": null,
      "outputs": []
    },
    {
      "cell_type": "code",
      "source": [
        "# function for replacement of a word with synonym\n",
        "def get_synonym(word):\n",
        "  if word != 'бар':\n",
        "    try:\n",
        "      synsets = wn.get_senses(word)[0].synset.hypernyms\n",
        "      synonyms = set()\n",
        "      for sense in synsets:\n",
        "          synonyms.add(sense.title.lower())\n",
        "      return random.choice(list(synonyms)) if synonyms else word\n",
        "    except:\n",
        "      return word\n",
        "  else:\n",
        "    return word\n",
        "\n",
        "# function for augmentation\n",
        "def augment_text(text, replace_prob = 0.8):\n",
        "    words = text.split()\n",
        "    new_words = [get_synonym(word) if random.random() < replace_prob else word for word in words]\n",
        "    return ' '.join(new_words).replace('(', '').replace(',', '').replace(')', '')"
      ],
      "metadata": {
        "id": "Wurstmsr1yc-"
      },
      "execution_count": null,
      "outputs": []
    },
    {
      "cell_type": "markdown",
      "source": [
        "### Application of a function on underpresented classes"
      ],
      "metadata": {
        "id": "zbWpWkG5tnGS"
      }
    },
    {
      "cell_type": "code",
      "source": [
        "bar= df[df['tag'] == 'БАР']\n",
        "okr= df[df['tag'] == 'ОКР']\n",
        "prl= df[df['tag'] == 'ПРЛ']\n",
        "dep= df[df['tag'] == 'депрессия']\n",
        "#par= df[df['tag'] == 'паранойя']\n",
        "trev= df[df['tag'] == 'тревожное р-во']\n",
        "shiz= df[df['tag'] == 'шизофрения']"
      ],
      "metadata": {
        "id": "EyqUQjjc50VA"
      },
      "execution_count": null,
      "outputs": []
    },
    {
      "cell_type": "code",
      "source": [
        "df = df[df['tag'].isin(['БАР', 'ОКР', 'ПРЛ', 'депрессия', 'тревожное р-во', 'шизофрения'])]\n",
        "tags = df.groupby('tag').size().reset_index()\n",
        "\n",
        "fig = plt.figure(figsize = (10, 5))\n",
        "\n",
        "# creating the bar plot\n",
        "plt.bar(tags['tag'], tags[0], color ='#B0E0E6',\n",
        "        width = 0.8)"
      ],
      "metadata": {
        "colab": {
          "base_uri": "https://localhost:8080/",
          "height": 462
        },
        "id": "APsNF4rC6K72",
        "outputId": "779034c5-c1d2-4ee7-f32a-1d671d076bb9"
      },
      "execution_count": null,
      "outputs": [
        {
          "output_type": "execute_result",
          "data": {
            "text/plain": [
              "<BarContainer object of 6 artists>"
            ]
          },
          "metadata": {},
          "execution_count": 257
        },
        {
          "output_type": "display_data",
          "data": {
            "text/plain": [
              "<Figure size 1000x500 with 1 Axes>"
            ],
            "image/png": "[encoded data removed]"
          },
          "metadata": {}
        }
      ]
    },
    {
      "cell_type": "code",
      "source": [
        "from sklearn.utils import resample\n",
        "\n",
        "dep = resample(dep, replace=True, n_samples=6000, random_state=1)"
      ],
      "metadata": {
        "id": "iwcaJ1vW6lUU"
      },
      "execution_count": null,
      "outputs": []
    },
    {
      "cell_type": "code",
      "source": [
        "okr_aug = okr\n",
        "okr_aug['text'] = okr_aug['text'].apply(augment_text)\n",
        "\n",
        "prl_aug = prl\n",
        "prl_aug['text'] = prl_aug['text'].apply(augment_text)\n",
        "\n",
        "bat_aug = bar\n",
        "bat_aug['text'] = bat_aug['text'].apply(augment_text)\n",
        "\n",
        "shiz_aug = shiz\n",
        "shiz_aug['text'] = shiz_aug['text'].apply(augment_text)\n"
      ],
      "metadata": {
        "id": "vHugRIUz6xH_"
      },
      "execution_count": null,
      "outputs": []
    },
    {
      "cell_type": "code",
      "source": [
        "df_balanced = pd.concat([bar, okr, prl, dep, trev, shiz, prl_aug, shiz_aug, okr_aug, bat_aug])"
      ],
      "metadata": {
        "id": "60n93RgYfrcc"
      },
      "execution_count": null,
      "outputs": []
    },
    {
      "cell_type": "code",
      "source": [
        "import matplotlib.pyplot as plt\n",
        "\n",
        "tags = df_balanced.groupby('tag').size().reset_index()\n",
        "\n",
        "fig = plt.figure(figsize = (10, 5))\n",
        "\n",
        "# creating the bar plot\n",
        "plt.bar(tags['tag'], tags[0], color ='#B0E0E6',\n",
        "        width = 0.8)"
      ],
      "metadata": {
        "colab": {
          "base_uri": "https://localhost:8080/",
          "height": 462
        },
        "id": "kvSLTwpfsa75",
        "outputId": "ae906848-a798-43b8-a949-9fa1ab41e9fa"
      },
      "execution_count": null,
      "outputs": [
        {
          "output_type": "execute_result",
          "data": {
            "text/plain": [
              "<BarContainer object of 6 artists>"
            ]
          },
          "metadata": {},
          "execution_count": 256
        },
        {
          "output_type": "display_data",
          "data": {
            "text/plain": [
              "<Figure size 1000x500 with 1 Axes>"
            ],
            "image/png": "[encoded data removed]"
          },
          "metadata": {}
        }
      ]
    },
    {
      "cell_type": "code",
      "source": [
        "df_balanced = df_balanced.sample(frac=1).reset_index(drop=True)"
      ],
      "metadata": {
        "id": "parJyATPANSA"
      },
      "execution_count": null,
      "outputs": []
    },
    {
      "cell_type": "code",
      "source": [
        "df_balanced.to_csv('df_lemma_augmented_v1.csv')"
      ],
      "metadata": {
        "id": "bhPB7WJDT9Zt"
      },
      "execution_count": null,
      "outputs": []
    },
    {
      "cell_type": "markdown",
      "source": [
        "# Preprocessing of data"
      ],
      "metadata": {
        "id": "Umbhj1RXunLE"
      }
    },
    {
      "cell_type": "code",
      "source": [
        "df_balanced = pd.read_csv('df_lemma_augmented_v1.csv')"
      ],
      "metadata": {
        "id": "i3V2D7kfov4M"
      },
      "execution_count": null,
      "outputs": []
    },
    {
      "cell_type": "code",
      "source": [
        "from tensorflow.keras.preprocessing.text import Tokenizer\n",
        "\n",
        "max_words= 10000\n",
        "\n",
        "t = Tokenizer(filters='!#$%&()*+,-./:;<=>?@[\\\\]^_`{|}~\\t\\n', lower=True, split=' ')\n",
        "\n",
        "t.fit_on_texts(df_balanced['text'])\n",
        "word_index = t.word_index\n",
        "\n",
        "sequences = t.texts_to_sequences(df_balanced['text'])"
      ],
      "metadata": {
        "id": "u2zr5-bhAJNu"
      },
      "execution_count": null,
      "outputs": []
    },
    {
      "cell_type": "code",
      "source": [
        "from tensorflow.keras.preprocessing.sequence import pad_sequences\n",
        "\n",
        "maxlen = 30\n",
        "padding_type='post'\n",
        "trunc_type='post'\n",
        "\n",
        "padded_seq = pad_sequences(sequences, maxlen=maxlen, padding=padding_type, truncating=trunc_type)\n",
        "padded_seq"
      ],
      "metadata": {
        "colab": {
          "base_uri": "https://localhost:8080/"
        },
        "outputId": "c1e7ad33-317a-42d4-f550-4e52ea81809b",
        "id": "DPXb7V4eAJNv"
      },
      "execution_count": null,
      "outputs": [
        {
          "output_type": "execute_result",
          "data": {
            "text/plain": [
              "array([[ 794,  259,  260, ...,    0,    0,    0],\n",
              "       [ 309, 1327, 1111, ...,    0,    0,    0],\n",
              "       [4178, 4356, 4356, ...,  298,  304,  366],\n",
              "       ...,\n",
              "       [ 586,  123,  121, ...,    0,    0,    0],\n",
              "       [ 687,  423, 2056, ...,    0,    0,    0],\n",
              "       [1415,   92,   93, ...,   95,  181,  166]], dtype=int32)"
            ]
          },
          "metadata": {},
          "execution_count": 236
        }
      ]
    },
    {
      "cell_type": "code",
      "source": [
        "Y = pd.get_dummies(df_balanced['tag'])\n",
        "Y.head(10)"
      ],
      "metadata": {
        "colab": {
          "base_uri": "https://localhost:8080/",
          "height": 363
        },
        "outputId": "e126e2d0-1cdc-4685-88ee-114942b614f5",
        "id": "M4CydmceAJNv"
      },
      "execution_count": null,
      "outputs": [
        {
          "output_type": "execute_result",
          "data": {
            "text/plain": [
              "     БАР    ОКР    ПРЛ  депрессия  тревожное р-во  шизофрения\n",
              "0   True  False  False      False           False       False\n",
              "1  False  False  False      False            True       False\n",
              "2  False  False   True      False           False       False\n",
              "3  False  False  False       True           False       False\n",
              "4  False  False  False       True           False       False\n",
              "5  False  False  False      False            True       False\n",
              "6  False   True  False      False           False       False\n",
              "7  False  False  False      False            True       False\n",
              "8  False   True  False      False           False       False\n",
              "9  False  False  False       True           False       False"
            ],
            "text/html": [
              "\n",
              "  <div id=\"df-480c3d5d-7d80-46af-aadd-40ae4315eed4\" class=\"colab-df-container\">\n",
              "    <div>\n",
              "<style scoped>\n",
              "    .dataframe tbody tr th:only-of-type {\n",
              "        vertical-align: middle;\n",
              "    }\n",
              "\n",
              "    .dataframe tbody tr th {\n",
              "        vertical-align: top;\n",
              "    }\n",
              "\n",
              "    .dataframe thead th {\n",
              "        text-align: right;\n",
              "    }\n",
              "</style>\n",
              "<table border=\"1\" class=\"dataframe\">\n",
              "  <thead>\n",
              "    <tr style=\"text-align: right;\">\n",
              "      <th></th>\n",
              "      <th>БАР</th>\n",
              "      <th>ОКР</th>\n",
              "      <th>ПРЛ</th>\n",
              "      <th>депрессия</th>\n",
              "      <th>тревожное р-во</th>\n",
              "      <th>шизофрения</th>\n",
              "    </tr>\n",
              "  </thead>\n",
              "  <tbody>\n",
              "    <tr>\n",
              "      <th>0</th>\n",
              "      <td>True</td>\n",
              "      <td>False</td>\n",
              "      <td>False</td>\n",
              "      <td>False</td>\n",
              "      <td>False</td>\n",
              "      <td>False</td>\n",
              "    </tr>\n",
              "    <tr>\n",
              "      <th>1</th>\n",
              "      <td>False</td>\n",
              "      <td>False</td>\n",
              "      <td>False</td>\n",
              "      <td>False</td>\n",
              "      <td>True</td>\n",
              "      <td>False</td>\n",
              "    </tr>\n",
              "    <tr>\n",
              "      <th>2</th>\n",
              "      <td>False</td>\n",
              "      <td>False</td>\n",
              "      <td>True</td>\n",
              "      <td>False</td>\n",
              "      <td>False</td>\n",
              "      <td>False</td>\n",
              "    </tr>\n",
              "    <tr>\n",
              "      <th>3</th>\n",
              "      <td>False</td>\n",
              "      <td>False</td>\n",
              "      <td>False</td>\n",
              "      <td>True</td>\n",
              "      <td>False</td>\n",
              "      <td>False</td>\n",
              "    </tr>\n",
              "    <tr>\n",
              "      <th>4</th>\n",
              "      <td>False</td>\n",
              "      <td>False</td>\n",
              "      <td>False</td>\n",
              "      <td>True</td>\n",
              "      <td>False</td>\n",
              "      <td>False</td>\n",
              "    </tr>\n",
              "    <tr>\n",
              "      <th>5</th>\n",
              "      <td>False</td>\n",
              "      <td>False</td>\n",
              "      <td>False</td>\n",
              "      <td>False</td>\n",
              "      <td>True</td>\n",
              "      <td>False</td>\n",
              "    </tr>\n",
              "    <tr>\n",
              "      <th>6</th>\n",
              "      <td>False</td>\n",
              "      <td>True</td>\n",
              "      <td>False</td>\n",
              "      <td>False</td>\n",
              "      <td>False</td>\n",
              "      <td>False</td>\n",
              "    </tr>\n",
              "    <tr>\n",
              "      <th>7</th>\n",
              "      <td>False</td>\n",
              "      <td>False</td>\n",
              "      <td>False</td>\n",
              "      <td>False</td>\n",
              "      <td>True</td>\n",
              "      <td>False</td>\n",
              "    </tr>\n",
              "    <tr>\n",
              "      <th>8</th>\n",
              "      <td>False</td>\n",
              "      <td>True</td>\n",
              "      <td>False</td>\n",
              "      <td>False</td>\n",
              "      <td>False</td>\n",
              "      <td>False</td>\n",
              "    </tr>\n",
              "    <tr>\n",
              "      <th>9</th>\n",
              "      <td>False</td>\n",
              "      <td>False</td>\n",
              "      <td>False</td>\n",
              "      <td>True</td>\n",
              "      <td>False</td>\n",
              "      <td>False</td>\n",
              "    </tr>\n",
              "  </tbody>\n",
              "</table>\n",
              "</div>\n",
              "    <div class=\"colab-df-buttons\">\n",
              "\n",
              "  <div class=\"colab-df-container\">\n",
              "    <button class=\"colab-df-convert\" onclick=\"convertToInteractive('df-480c3d5d-7d80-46af-aadd-40ae4315eed4')\"\n",
              "            title=\"Convert this dataframe to an interactive table.\"\n",
              "            style=\"display:none;\">\n",
              "\n",
              "  <svg xmlns=\"http://www.w3.org/2000/svg\" height=\"24px\" viewBox=\"0 -960 960 960\">\n",
              "    <path d=\"M120-120v-720h720v720H120Zm60-500h600v-160H180v160Zm220 220h160v-160H400v160Zm0 220h160v-160H400v160ZM180-400h160v-160H180v160Zm440 0h160v-160H620v160ZM180-180h160v-160H180v160Zm440 0h160v-160H620v160Z\"/>\n",
              "  </svg>\n",
              "    </button>\n",
              "\n",
              "  <style>\n",
              "    .colab-df-container {\n",
              "      display:flex;\n",
              "      gap: 12px;\n",
              "    }\n",
              "\n",
              "    .colab-df-convert {\n",
              "      background-color: #E8F0FE;\n",
              "      border: none;\n",
              "      border-radius: 50%;\n",
              "      cursor: pointer;\n",
              "      display: none;\n",
              "      fill: #1967D2;\n",
              "      height: 32px;\n",
              "      padding: 0 0 0 0;\n",
              "      width: 32px;\n",
              "    }\n",
              "\n",
              "    .colab-df-convert:hover {\n",
              "      background-color: #E2EBFA;\n",
              "      box-shadow: 0px 1px 2px rgba(60, 64, 67, 0.3), 0px 1px 3px 1px rgba(60, 64, 67, 0.15);\n",
              "      fill: #174EA6;\n",
              "    }\n",
              "\n",
              "    .colab-df-buttons div {\n",
              "      margin-bottom: 4px;\n",
              "    }\n",
              "\n",
              "    [theme=dark] .colab-df-convert {\n",
              "      background-color: #3B4455;\n",
              "      fill: #D2E3FC;\n",
              "    }\n",
              "\n",
              "    [theme=dark] .colab-df-convert:hover {\n",
              "      background-color: #434B5C;\n",
              "      box-shadow: 0px 1px 3px 1px rgba(0, 0, 0, 0.15);\n",
              "      filter: drop-shadow(0px 1px 2px rgba(0, 0, 0, 0.3));\n",
              "      fill: #FFFFFF;\n",
              "    }\n",
              "  </style>\n",
              "\n",
              "    <script>\n",
              "      const buttonEl =\n",
              "        document.querySelector('#df-480c3d5d-7d80-46af-aadd-40ae4315eed4 button.colab-df-convert');\n",
              "      buttonEl.style.display =\n",
              "        google.colab.kernel.accessAllowed ? 'block' : 'none';\n",
              "\n",
              "      async function convertToInteractive(key) {\n",
              "        const element = document.querySelector('#df-480c3d5d-7d80-46af-aadd-40ae4315eed4');\n",
              "        const dataTable =\n",
              "          await google.colab.kernel.invokeFunction('convertToInteractive',\n",
              "                                                    [key], {});\n",
              "        if (!dataTable) return;\n",
              "\n",
              "        const docLinkHtml = 'Like what you see? Visit the ' +\n",
              "          '<a target=\"_blank\" href=https://colab.research.google.com/notebooks/data_table.ipynb>data table notebook</a>'\n",
              "          + ' to learn more about interactive tables.';\n",
              "        element.innerHTML = '';\n",
              "        dataTable['output_type'] = 'display_data';\n",
              "        await google.colab.output.renderOutput(dataTable, element);\n",
              "        const docLink = document.createElement('div');\n",
              "        docLink.innerHTML = docLinkHtml;\n",
              "        element.appendChild(docLink);\n",
              "      }\n",
              "    </script>\n",
              "  </div>\n",
              "\n",
              "\n",
              "<div id=\"df-8a011d42-3ba0-4a3d-a747-466ecab9f0d6\">\n",
              "  <button class=\"colab-df-quickchart\" onclick=\"quickchart('df-8a011d42-3ba0-4a3d-a747-466ecab9f0d6')\"\n",
              "            title=\"Suggest charts\"\n",
              "            style=\"display:none;\">\n",
              "\n",
              "<svg xmlns=\"http://www.w3.org/2000/svg\" height=\"24px\"viewBox=\"0 0 24 24\"\n",
              "     width=\"24px\">\n",
              "    <g>\n",
              "        <path d=\"M19 3H5c-1.1 0-2 .9-2 2v14c0 1.1.9 2 2 2h14c1.1 0 2-.9 2-2V5c0-1.1-.9-2-2-2zM9 17H7v-7h2v7zm4 0h-2V7h2v10zm4 0h-2v-4h2v4z\"/>\n",
              "    </g>\n",
              "</svg>\n",
              "  </button>\n",
              "\n",
              "<style>\n",
              "  .colab-df-quickchart {\n",
              "      --bg-color: #E8F0FE;\n",
              "      --fill-color: #1967D2;\n",
              "      --hover-bg-color: #E2EBFA;\n",
              "      --hover-fill-color: #174EA6;\n",
              "      --disabled-fill-color: #AAA;\n",
              "      --disabled-bg-color: #DDD;\n",
              "  }\n",
              "\n",
              "  [theme=dark] .colab-df-quickchart {\n",
              "      --bg-color: #3B4455;\n",
              "      --fill-color: #D2E3FC;\n",
              "      --hover-bg-color: #434B5C;\n",
              "      --hover-fill-color: #FFFFFF;\n",
              "      --disabled-bg-color: #3B4455;\n",
              "      --disabled-fill-color: #666;\n",
              "  }\n",
              "\n",
              "  .colab-df-quickchart {\n",
              "    background-color: var(--bg-color);\n",
              "    border: none;\n",
              "    border-radius: 50%;\n",
              "    cursor: pointer;\n",
              "    display: none;\n",
              "    fill: var(--fill-color);\n",
              "    height: 32px;\n",
              "    padding: 0;\n",
              "    width: 32px;\n",
              "  }\n",
              "\n",
              "  .colab-df-quickchart:hover {\n",
              "    background-color: var(--hover-bg-color);\n",
              "    box-shadow: 0 1px 2px rgba(60, 64, 67, 0.3), 0 1px 3px 1px rgba(60, 64, 67, 0.15);\n",
              "    fill: var(--button-hover-fill-color);\n",
              "  }\n",
              "\n",
              "  .colab-df-quickchart-complete:disabled,\n",
              "  .colab-df-quickchart-complete:disabled:hover {\n",
              "    background-color: var(--disabled-bg-color);\n",
              "    fill: var(--disabled-fill-color);\n",
              "    box-shadow: none;\n",
              "  }\n",
              "\n",
              "  .colab-df-spinner {\n",
              "    border: 2px solid var(--fill-color);\n",
              "    border-color: transparent;\n",
              "    border-bottom-color: var(--fill-color);\n",
              "    animation:\n",
              "      spin 1s steps(1) infinite;\n",
              "  }\n",
              "\n",
              "  @keyframes spin {\n",
              "    0% {\n",
              "      border-color: transparent;\n",
              "      border-bottom-color: var(--fill-color);\n",
              "      border-left-color: var(--fill-color);\n",
              "    }\n",
              "    20% {\n",
              "      border-color: transparent;\n",
              "      border-left-color: var(--fill-color);\n",
              "      border-top-color: var(--fill-color);\n",
              "    }\n",
              "    30% {\n",
              "      border-color: transparent;\n",
              "      border-left-color: var(--fill-color);\n",
              "      border-top-color: var(--fill-color);\n",
              "      border-right-color: var(--fill-color);\n",
              "    }\n",
              "    40% {\n",
              "      border-color: transparent;\n",
              "      border-right-color: var(--fill-color);\n",
              "      border-top-color: var(--fill-color);\n",
              "    }\n",
              "    60% {\n",
              "      border-color: transparent;\n",
              "      border-right-color: var(--fill-color);\n",
              "    }\n",
              "    80% {\n",
              "      border-color: transparent;\n",
              "      border-right-color: var(--fill-color);\n",
              "      border-bottom-color: var(--fill-color);\n",
              "    }\n",
              "    90% {\n",
              "      border-color: transparent;\n",
              "      border-bottom-color: var(--fill-color);\n",
              "    }\n",
              "  }\n",
              "</style>\n",
              "\n",
              "  <script>\n",
              "    async function quickchart(key) {\n",
              "      const quickchartButtonEl =\n",
              "        document.querySelector('#' + key + ' button');\n",
              "      quickchartButtonEl.disabled = true;  // To prevent multiple clicks.\n",
              "      quickchartButtonEl.classList.add('colab-df-spinner');\n",
              "      try {\n",
              "        const charts = await google.colab.kernel.invokeFunction(\n",
              "            'suggestCharts', [key], {});\n",
              "      } catch (error) {\n",
              "        console.error('Error during call to suggestCharts:', error);\n",
              "      }\n",
              "      quickchartButtonEl.classList.remove('colab-df-spinner');\n",
              "      quickchartButtonEl.classList.add('colab-df-quickchart-complete');\n",
              "    }\n",
              "    (() => {\n",
              "      let quickchartButtonEl =\n",
              "        document.querySelector('#df-8a011d42-3ba0-4a3d-a747-466ecab9f0d6 button');\n",
              "      quickchartButtonEl.style.display =\n",
              "        google.colab.kernel.accessAllowed ? 'block' : 'none';\n",
              "    })();\n",
              "  </script>\n",
              "</div>\n",
              "    </div>\n",
              "  </div>\n"
            ],
            "application/vnd.google.colaboratory.intrinsic+json": {
              "type": "dataframe",
              "variable_name": "Y",
              "summary": "{\n  \"name\": \"Y\",\n  \"rows\": 43489,\n  \"fields\": [\n    {\n      \"column\": \"\\u0411\\u0410\\u0420\",\n      \"properties\": {\n        \"dtype\": \"boolean\",\n        \"num_unique_values\": 2,\n        \"samples\": [\n          false,\n          true\n        ],\n        \"semantic_type\": \"\",\n        \"description\": \"\"\n      }\n    },\n    {\n      \"column\": \"\\u041e\\u041a\\u0420\",\n      \"properties\": {\n        \"dtype\": \"boolean\",\n        \"num_unique_values\": 2,\n        \"samples\": [\n          true,\n          false\n        ],\n        \"semantic_type\": \"\",\n        \"description\": \"\"\n      }\n    },\n    {\n      \"column\": \"\\u041f\\u0420\\u041b\",\n      \"properties\": {\n        \"dtype\": \"boolean\",\n        \"num_unique_values\": 2,\n        \"samples\": [\n          true,\n          false\n        ],\n        \"semantic_type\": \"\",\n        \"description\": \"\"\n      }\n    },\n    {\n      \"column\": \"\\u0434\\u0435\\u043f\\u0440\\u0435\\u0441\\u0441\\u0438\\u044f\",\n      \"properties\": {\n        \"dtype\": \"boolean\",\n        \"num_unique_values\": 2,\n        \"samples\": [\n          true,\n          false\n        ],\n        \"semantic_type\": \"\",\n        \"description\": \"\"\n      }\n    },\n    {\n      \"column\": \"\\u0442\\u0440\\u0435\\u0432\\u043e\\u0436\\u043d\\u043e\\u0435 \\u0440-\\u0432\\u043e\",\n      \"properties\": {\n        \"dtype\": \"boolean\",\n        \"num_unique_values\": 2,\n        \"samples\": [\n          true,\n          false\n        ],\n        \"semantic_type\": \"\",\n        \"description\": \"\"\n      }\n    },\n    {\n      \"column\": \"\\u0448\\u0438\\u0437\\u043e\\u0444\\u0440\\u0435\\u043d\\u0438\\u044f\",\n      \"properties\": {\n        \"dtype\": \"boolean\",\n        \"num_unique_values\": 2,\n        \"samples\": [\n          true,\n          false\n        ],\n        \"semantic_type\": \"\",\n        \"description\": \"\"\n      }\n    }\n  ]\n}"
            }
          },
          "metadata": {},
          "execution_count": 237
        }
      ]
    },
    {
      "cell_type": "code",
      "source": [
        "from sklearn.model_selection import train_test_split\n",
        "# divide the data into a test collection and a training collection\n",
        "x_train, x_valid, y_train, y_valid = train_test_split(padded_seq, Y, test_size=0.2, stratify = Y)\n",
        "print('x_train: ', x_train.shape)\n",
        "print('x_valid: ', x_valid.shape)\n",
        "print('------------------------------')\n",
        "print('y_train: ' , y_train.shape)\n",
        "print('y_valid: ' , y_valid.shape)"
      ],
      "metadata": {
        "colab": {
          "base_uri": "https://localhost:8080/"
        },
        "outputId": "73caa0c1-d548-41e2-a5d2-ef0df3adafdb",
        "id": "AI-4HaqIAJNv"
      },
      "execution_count": null,
      "outputs": [
        {
          "output_type": "stream",
          "name": "stdout",
          "text": [
            "x_train:  (34791, 30)\n",
            "x_valid:  (8698, 30)\n",
            "------------------------------\n",
            "y_train:  (34791, 6)\n",
            "y_valid:  (8698, 6)\n"
          ]
        }
      ]
    },
    {
      "cell_type": "markdown",
      "source": [
        "# Embedding layer"
      ],
      "metadata": {
        "id": "ik7lYdzyuyH8"
      }
    },
    {
      "cell_type": "code",
      "source": [
        "pip install navec"
      ],
      "metadata": {
        "colab": {
          "base_uri": "https://localhost:8080/"
        },
        "outputId": "2eb5f4d4-264b-411c-bb59-d76c46794e68",
        "id": "htPMkSHnAJNv",
        "collapsed": true
      },
      "execution_count": null,
      "outputs": [
        {
          "output_type": "stream",
          "name": "stdout",
          "text": [
            "Collecting navec\n",
            "  Downloading navec-0.10.0-py3-none-any.whl (23 kB)\n",
            "Requirement already satisfied: numpy in /usr/local/lib/python3.10/dist-packages (from navec) (1.25.2)\n",
            "Installing collected packages: navec\n",
            "Successfully installed navec-0.10.0\n"
          ]
        }
      ]
    },
    {
      "cell_type": "code",
      "source": [
        "from navec import Navec\n",
        "\n",
        "path = 'navec_hudlit_v1_12B_500K_300d_100q.tar'\n",
        "navec = Navec.load(path)"
      ],
      "metadata": {
        "id": "IuqKtGdYAJNw"
      },
      "execution_count": null,
      "outputs": []
    },
    {
      "cell_type": "code",
      "source": [
        "# leaving only words which are presented in a dictionary\n",
        "embedding_dim = 300\n",
        "embedding_matrix = np.zeros((len(word_index) + 1, embedding_dim))\n",
        "j=0\n",
        "\n",
        "for word, i in word_index.items():\n",
        "    embedding_vector = navec.get(word)\n",
        "    #print(embedding_vector)\n",
        "    if embedding_vector is not None:\n",
        "            embedding_matrix[i] = embedding_vector"
      ],
      "metadata": {
        "id": "73A3VdgiAJNw"
      },
      "execution_count": null,
      "outputs": []
    },
    {
      "cell_type": "markdown",
      "source": [
        "# Model compilation"
      ],
      "metadata": {
        "id": "06VbEpxWu1fy"
      }
    },
    {
      "cell_type": "code",
      "source": [
        "# build model\n",
        "from tensorflow.keras.models import Sequential\n",
        "from tensorflow.keras.layers import Flatten, Dense, Embedding, Conv1D, Activation, GlobalMaxPool1D, LSTM, MaxPooling1D\n",
        "from tensorflow.keras import layers\n",
        "\n",
        "embedding_dim = 300\n",
        "\n",
        "model = Sequential()\n",
        "# embedding layer\n",
        "model.add(Embedding(len(word_index) + 1, embedding_dim, input_length=maxlen))\n",
        "# convolutional layer\n",
        "model.add(Conv1D(128, 3, activation=\"relu\"))\n",
        "# pulling\n",
        "model.add(GlobalMaxPool1D())\n",
        "model.add(layers.Dense(64, activation='relu'))\n",
        "model.add(layers.Dropout(0.7))\n",
        "# output\n",
        "model.add(Dense(6, activation='softmax'))\n",
        "model.summary()"
      ],
      "metadata": {
        "colab": {
          "base_uri": "https://localhost:8080/"
        },
        "outputId": "9060fed3-4b38-46a4-b404-d664527eb051",
        "id": "DG0rJb32AJNw"
      },
      "execution_count": null,
      "outputs": [
        {
          "output_type": "stream",
          "name": "stdout",
          "text": [
            "Model: \"sequential_15\"\n",
            "_________________________________________________________________\n",
            " Layer (type)                Output Shape              Param #   \n",
            "=================================================================\n",
            " embedding_15 (Embedding)    (None, 30, 300)           14625900  \n",
            "                                                                 \n",
            " conv1d_15 (Conv1D)          (None, 28, 128)           115328    \n",
            "                                                                 \n",
            " global_max_pooling1d_15 (G  (None, 128)               0         \n",
            " lobalMaxPooling1D)                                              \n",
            "                                                                 \n",
            " dense_34 (Dense)            (None, 64)                8256      \n",
            "                                                                 \n",
            " dropout_23 (Dropout)        (None, 64)                0         \n",
            "                                                                 \n",
            " dense_35 (Dense)            (None, 6)                 390       \n",
            "                                                                 \n",
            "=================================================================\n",
            "Total params: 14749874 (56.27 MB)\n",
            "Trainable params: 14749874 (56.27 MB)\n",
            "Non-trainable params: 0 (0.00 Byte)\n",
            "_________________________________________________________________\n"
          ]
        }
      ]
    },
    {
      "cell_type": "code",
      "source": [
        "# load coefficients of embedings to layer\n",
        "model.layers[0].set_weights([embedding_matrix])\n",
        "model.layers[0].trainable = False # False - means that the layer is frozen"
      ],
      "metadata": {
        "id": "SsWbAV4xAJNw"
      },
      "execution_count": null,
      "outputs": []
    },
    {
      "cell_type": "code",
      "source": [
        "model.compile(optimizer='rmsprop', loss='categorical_crossentropy', metrics=['accuracy'])"
      ],
      "metadata": {
        "id": "uSHQX-O-AJNw"
      },
      "execution_count": null,
      "outputs": []
    },
    {
      "cell_type": "markdown",
      "source": [
        "# Model training"
      ],
      "metadata": {
        "id": "3ezgn6LNu7vI"
      }
    },
    {
      "cell_type": "code",
      "source": [
        "import time\n",
        "s1 = time.time()\n",
        "my_epox = 15\n",
        "history = model.fit(x_train, y_train, epochs=my_epox, batch_size=64, validation_data=(x_valid, y_valid))\n",
        "s2 = time.time()\n",
        "print('Время обучения сети: ', s2-s1)"
      ],
      "metadata": {
        "colab": {
          "base_uri": "https://localhost:8080/"
        },
        "outputId": "4bbdf7cb-6494-4fc4-db0f-5a497e47cf46",
        "id": "-Z0xP1iiAJNx"
      },
      "execution_count": null,
      "outputs": [
        {
          "output_type": "stream",
          "name": "stdout",
          "text": [
            "Epoch 1/15\n",
            "544/544 [==============================] - 7s 11ms/step - loss: 1.0903 - accuracy: 0.4723 - val_loss: 0.7817 - val_accuracy: 0.5912\n",
            "Epoch 2/15\n",
            "544/544 [==============================] - 4s 7ms/step - loss: 0.8289 - accuracy: 0.5605 - val_loss: 0.7277 - val_accuracy: 0.5911\n",
            "Epoch 3/15\n",
            "544/544 [==============================] - 4s 7ms/step - loss: 0.7493 - accuracy: 0.5981 - val_loss: 0.6868 - val_accuracy: 0.6339\n",
            "Epoch 4/15\n",
            "544/544 [==============================] - 6s 12ms/step - loss: 0.7024 - accuracy: 0.6265 - val_loss: 0.6459 - val_accuracy: 0.6573\n",
            "Epoch 5/15\n",
            "544/544 [==============================] - 5s 9ms/step - loss: 0.6626 - accuracy: 0.6552 - val_loss: 0.6263 - val_accuracy: 0.6781\n",
            "Epoch 6/15\n",
            "544/544 [==============================] - 4s 6ms/step - loss: 0.6265 - accuracy: 0.6802 - val_loss: 0.6239 - val_accuracy: 0.6829\n",
            "Epoch 7/15\n",
            "544/544 [==============================] - 3s 5ms/step - loss: 0.5946 - accuracy: 0.7014 - val_loss: 0.6305 - val_accuracy: 0.7021\n",
            "Epoch 8/15\n",
            "544/544 [==============================] - 3s 6ms/step - loss: 0.5607 - accuracy: 0.7254 - val_loss: 0.6375 - val_accuracy: 0.7128\n",
            "Epoch 9/15\n",
            "544/544 [==============================] - 2s 5ms/step - loss: 0.5324 - accuracy: 0.7430 - val_loss: 0.6080 - val_accuracy: 0.7076\n",
            "Epoch 10/15\n",
            "544/544 [==============================] - 3s 5ms/step - loss: 0.4994 - accuracy: 0.7648 - val_loss: 0.6171 - val_accuracy: 0.7252\n",
            "Epoch 11/15\n",
            "544/544 [==============================] - 2s 5ms/step - loss: 0.4682 - accuracy: 0.7841 - val_loss: 0.6821 - val_accuracy: 0.7330\n",
            "Epoch 12/15\n",
            "544/544 [==============================] - 3s 6ms/step - loss: 0.4479 - accuracy: 0.7959 - val_loss: 0.6489 - val_accuracy: 0.7517\n",
            "Epoch 13/15\n",
            "544/544 [==============================] - 3s 6ms/step - loss: 0.4223 - accuracy: 0.8115 - val_loss: 0.6708 - val_accuracy: 0.7611\n",
            "Epoch 14/15\n",
            "544/544 [==============================] - 3s 5ms/step - loss: 0.3975 - accuracy: 0.8242 - val_loss: 0.6975 - val_accuracy: 0.7676\n",
            "Epoch 15/15\n",
            "544/544 [==============================] - 3s 5ms/step - loss: 0.3810 - accuracy: 0.8337 - val_loss: 0.6736 - val_accuracy: 0.7711\n",
            "Время обучения сети:  82.9443588256836\n"
          ]
        }
      ]
    },
    {
      "cell_type": "markdown",
      "source": [
        "# Validation"
      ],
      "metadata": {
        "id": "KOzyReBKu_wv"
      }
    },
    {
      "cell_type": "code",
      "source": [
        "#predictions\n",
        "predictions = model.predict(x_valid)\n",
        "\n",
        "#  number of estimates and size of estimates in the prediction\n",
        "print(predictions.shape)\n",
        "print(predictions)"
      ],
      "metadata": {
        "colab": {
          "base_uri": "https://localhost:8080/"
        },
        "outputId": "145e9a9d-3722-4421-b1bd-58f9235ad2fd",
        "id": "pwUbrLIuAJNy"
      },
      "execution_count": null,
      "outputs": [
        {
          "output_type": "stream",
          "name": "stdout",
          "text": [
            "272/272 [==============================] - 1s 2ms/step\n",
            "(8698, 6)\n",
            "[[1.9171763e-08 9.7754842e-01 2.2451565e-02 4.7837724e-14 3.5304272e-15\n",
            "  4.0431821e-21]\n",
            " [3.5539446e-07 3.0267692e-01 6.9732273e-01 6.3541329e-14 5.5797155e-12\n",
            "  5.1342824e-18]\n",
            " [0.0000000e+00 0.0000000e+00 6.3358451e-35 5.3338843e-23 1.0000000e+00\n",
            "  0.0000000e+00]\n",
            " ...\n",
            " [1.5951421e-06 6.4465499e-01 3.5534337e-01 8.6974610e-20 3.1678976e-18\n",
            "  1.4471347e-20]\n",
            " [1.4603407e-19 2.3294626e-09 5.7932088e-13 9.0752310e-01 9.2476904e-02\n",
            "  2.6478985e-19]\n",
            " [2.3729879e-07 2.9996213e-01 7.0003766e-01 9.6683153e-18 7.2874000e-18\n",
            "  2.7982228e-21]]\n"
          ]
        }
      ]
    },
    {
      "cell_type": "code",
      "source": [
        "\n",
        "y_preds = np.argmax(predictions, axis=1).tolist()\n",
        "\n",
        "for i in range(len(y_preds)):\n",
        "    if y_preds[i]==0: y_preds[i]='БАР'\n",
        "    if y_preds[i]==1: y_preds[i]='ОКР'\n",
        "    if y_preds[i]==2: y_preds[i]='ПРЛ'\n",
        "    if y_preds[i]==3: y_preds[i]='депрессия'\n",
        "    if y_preds[i]==4: y_preds[i]='тревожное р-во'\n",
        "    if y_preds[i]==5: y_preds[i]='шизофрения'"
      ],
      "metadata": {
        "id": "GD32hGbmAJNy"
      },
      "execution_count": null,
      "outputs": []
    },
    {
      "cell_type": "code",
      "source": [
        "yy = y_valid.idxmax(axis=1)"
      ],
      "metadata": {
        "id": "HZ3ugxqbAJNy"
      },
      "execution_count": null,
      "outputs": []
    },
    {
      "cell_type": "code",
      "source": [
        "from sklearn import metrics\n",
        "from sklearn.metrics import classification_report\n",
        "print(metrics.classification_report(y_preds, yy))"
      ],
      "metadata": {
        "colab": {
          "base_uri": "https://localhost:8080/"
        },
        "outputId": "55a349c6-e04b-43c4-fb4b-0327055074de",
        "id": "oBy3u8bRAJNz"
      },
      "execution_count": null,
      "outputs": [
        {
          "output_type": "stream",
          "name": "stdout",
          "text": [
            "                precision    recall  f1-score   support\n",
            "\n",
            "           БАР       0.77      0.83      0.80       979\n",
            "           ОКР       0.81      0.79      0.80      2028\n",
            "           ПРЛ       0.78      0.78      0.78      1877\n",
            "     депрессия       0.73      0.65      0.69      1345\n",
            "тревожное р-во       0.74      0.81      0.78      1699\n",
            "    шизофрения       0.78      0.74      0.76       770\n",
            "\n",
            "      accuracy                           0.77      8698\n",
            "     macro avg       0.77      0.77      0.77      8698\n",
            "  weighted avg       0.77      0.77      0.77      8698\n",
            "\n"
          ]
        }
      ]
    },
    {
      "cell_type": "code",
      "source": [
        "import pickle\n",
        "\n",
        "with open('CNN_best.pkl','wb') as f:\n",
        "    pickle.dump(model,f)"
      ],
      "metadata": {
        "id": "vuz5YduWbmq_"
      },
      "execution_count": null,
      "outputs": []
    }
  ]
}